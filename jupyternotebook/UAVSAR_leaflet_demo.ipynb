{
 "cells": [
  {
   "cell_type": "markdown",
   "metadata": {},
   "source": [
    "## UAVSAR and Leaflet Map Demo\n"
   ]
  },
  {
   "cell_type": "code",
   "execution_count": 1,
   "metadata": {},
   "outputs": [],
   "source": [
    "from ipyleaflet import Map, GeoJSON, WMSLayer, Marker, Polyline, basemaps, Polygon,LayersControl, SplitMapControl, basemap_to_tiles,MeasureControl\n",
    "import json\n",
    "import requests"
   ]
  },
  {
   "cell_type": "code",
   "execution_count": 2,
   "metadata": {},
   "outputs": [],
   "source": [
    "# Load a local file\n",
    "#with open('ucerf2dm6.json') as f:\n",
    "#    data = json.load(f)\n",
    "# Load from geoserver directly\n",
    "faultjson = requests.get(\"http://gf2.ucs.indiana.edu:8080/geoserver/EDECIDER/ows?service=WFS&version=1.0.0&request=GetFeature&typeName=EDECIDER:faulttable&maxFeatures=500&outputFormat=json\")\n",
    "data=json.loads(faultjson.text)"
   ]
  },
  {
   "cell_type": "code",
   "execution_count": 3,
   "metadata": {},
   "outputs": [],
   "source": [
    "m = Map(center=(33, -115), zoom=8,basemap=basemaps.Esri.WorldTopoMap)\n",
    "\n",
    "geo_json = GeoJSON(data=data)\n",
    "m.add_layer(geo_json);\n"
   ]
  },
  {
   "cell_type": "code",
   "execution_count": 4,
   "metadata": {},
   "outputs": [],
   "source": [
    "wms1 = WMSLayer(\n",
    "    url=\"https://archive.geo-gateway.org/color/highres/wms?\",\n",
    "    layers=\"highres:uid10_unw\",\n",
    "    transparent=True,\n",
    "    format=\"image/png\"\n",
    ")\n",
    "m.add_layer(wms1)"
   ]
  },
  {
   "cell_type": "code",
   "execution_count": 5,
   "metadata": {},
   "outputs": [],
   "source": [
    "wms2 = WMSLayer(\n",
    "    url=\"https://archive.geo-gateway.org/color/highres/wms?\",\n",
    "    layers=\"highres:uid337_unw\",\n",
    "    transparent=True,\n",
    "    format=\"image/png\"\n",
    ")\n",
    "m.add_layer(wms2)"
   ]
  },
  {
   "cell_type": "code",
   "execution_count": 6,
   "metadata": {},
   "outputs": [],
   "source": [
    "# pnt1 = Marker(location=(32.69652, -115.99283),draggable=False)\n",
    "# pnt2 = Marker(location=(32.69652, -115.89283),draggable=False)\n",
    "# m.add_layer(pnt1)\n",
    "# m.add_layer(pnt2)\n",
    "# pl = Polyline(location=[(32.69652, -115.99283),(32.69652, -115.89283)],fill_color='black',color=\"black\")\n",
    "# m.add_layer(pl)"
   ]
  },
  {
   "cell_type": "code",
   "execution_count": 7,
   "metadata": {},
   "outputs": [
    {
     "data": {
      "application/vnd.jupyter.widget-view+json": {
       "model_id": "6e6f7e80ea934e26bbce7819cb1c108b",
       "version_major": 2,
       "version_minor": 0
      },
      "text/plain": [
       "Map(center=[33, -115], controls=(ZoomControl(options=['position', 'zoom_in_text', 'zoom_in_title', 'zoom_out_t…"
      ]
     },
     "metadata": {},
     "output_type": "display_data"
    }
   ],
   "source": [
    "m"
   ]
  },
  {
   "cell_type": "markdown",
   "metadata": {},
   "source": [
    "## California Shrouded in Smoke from the Ongoing Camp Fire\n",
    "The Camp Fire started at sunrise on Thursday, November 8."
   ]
  },
  {
   "cell_type": "code",
   "execution_count": 8,
   "metadata": {},
   "outputs": [
    {
     "data": {
      "application/vnd.jupyter.widget-view+json": {
       "model_id": "c0d13cdbcac742b690a368557058f507",
       "version_major": 2,
       "version_minor": 0
      },
      "text/plain": [
       "Map(center=[39.8475, -121.395], controls=(ZoomControl(options=['position', 'zoom_in_text', 'zoom_in_title', 'z…"
      ]
     },
     "metadata": {},
     "output_type": "display_data"
    }
   ],
   "source": [
    "campfile_map = Map(center=(39.8475, -121.395), zoom=8)\n",
    "\n",
    "right_layer = basemap_to_tiles(basemaps.NASAGIBS.ModisTerraTrueColorCR, \"2018-11-14\")\n",
    "left_layer = basemap_to_tiles(basemaps.NASAGIBS.ModisTerraTrueColorCR, \"2018-11-08\")\n",
    "\n",
    "control = SplitMapControl(left_layer=left_layer, right_layer=right_layer)\n",
    "campfile_map.add_control(control)\n",
    "\n",
    "campfile_map\n"
   ]
  },
  {
   "cell_type": "markdown",
   "metadata": {},
   "source": [
    "## UAVSAR can map fire scars\n",
    "Southern California's Woolsey Fire on Nov. 15 observed with UAVSAR"
   ]
  },
  {
   "cell_type": "code",
   "execution_count": 20,
   "metadata": {},
   "outputs": [],
   "source": [
    "CAfire_map = Map(center=(34.131131502784406, -118.82606506347656), zoom=10,basemap=basemaps.Esri.WorldTopoMap)\n",
    "# load Woolsey fire perimeter (11-18-2018)\n",
    "woolsey = requests.get(\"http://gf2.ucs.indiana.edu/stage/CA_Fires/Woolsey_11_18_2018.geojson\")\n",
    "data=json.loads(woolsey.text)\n",
    "geo_json = GeoJSON(data=data,name=\"Woolsey_11_18\",style={'color': \"red\",'weight': 3})\n",
    "CAfire_map.add_layer(geo_json);\n",
    "# load Hill fire perimeter (11-12-2018)\n",
    "hill = requests.get(\"http://gf2.ucs.indiana.edu/stage/CA_Fires/Hill_11_12_2018.geojson\")\n",
    "data=json.loads(hill.text)\n",
    "geo_json = GeoJSON(data=data,name=\"Hill_11_12\",style={'color': \"blue\",'weight': 3})\n",
    "CAfire_map.add_layer(geo_json);\n",
    "\n",
    "# two UAVSAR Correlation Images\n",
    "# SanAnd_08525_18076-003_18083-003_0036d_s01_L090_01\n",
    "cor1 = WMSLayer(\n",
    "    url=\"https://archive.geo-gateway.org/color/highres/wms?\",\n",
    "    layers=\"highres:SanAnd_08525_18076-003_18083-003_0036d_s01_L090HH_01.cor\",\n",
    "    transparent=True,\n",
    "    format=\"image/png\",\n",
    "    name=\"SanAnd_08525\"\n",
    ")\n",
    "CAfire_map.add_layer(cor1)\n",
    "# SanAnd_26526_18080-006_18083-000_0011d_s01_L090_01\n",
    "cor2 = WMSLayer(\n",
    "    url=\"https://archive.geo-gateway.org/color/highres/wms?\",\n",
    "    layers=\"highres:SanAnd_26526_18080-006_18083-000_0011d_s01_L090HH_01.cor\",\n",
    "    transparent=True,\n",
    "    format=\"image/png\",\n",
    "    name=\"SanAnd_26526\"\n",
    ")\n",
    "CAfire_map.add_layer(cor2)\n",
    "CAfire_map.add_control(LayersControl())\n",
    "\n",
    "measure = MeasureControl(\n",
    "    position='topright',\n",
    "    active_color = 'black',\n",
    "    completed_color = 'black',\n",
    "    primary_length_unit = 'miles',\n",
    "    primary_area_unit = 'sqmiles'\n",
    ")\n",
    "CAfire_map.add_control(measure)"
   ]
  },
  {
   "cell_type": "code",
   "execution_count": 19,
   "metadata": {},
   "outputs": [
    {
     "data": {
      "application/vnd.jupyter.widget-view+json": {
       "model_id": "68d83df26f0d4cada00a5fbe251a1097",
       "version_major": 2,
       "version_minor": 0
      },
      "text/plain": [
       "Map(center=[34.131131502784406, -118.82606506347656], controls=(ZoomControl(options=['position', 'zoom_in_text…"
      ]
     },
     "metadata": {},
     "output_type": "display_data"
    }
   ],
   "source": [
    "CAfire_map"
   ]
  },
  {
   "cell_type": "code",
   "execution_count": null,
   "metadata": {},
   "outputs": [],
   "source": []
  }
 ],
 "metadata": {
  "kernelspec": {
   "display_name": "Python 3 (ipykernel)",
   "language": "python",
   "name": "python3"
  },
  "language_info": {
   "codemirror_mode": {
    "name": "ipython",
    "version": 3
   },
   "file_extension": ".py",
   "mimetype": "text/x-python",
   "name": "python",
   "nbconvert_exporter": "python",
   "pygments_lexer": "ipython3",
   "version": "3.8.6"
  }
 },
 "nbformat": 4,
 "nbformat_minor": 2
}
