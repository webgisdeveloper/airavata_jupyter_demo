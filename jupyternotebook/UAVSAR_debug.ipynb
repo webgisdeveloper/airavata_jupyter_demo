{
 "cells": [
  {
   "cell_type": "code",
   "execution_count": 13,
   "metadata": {},
   "outputs": [],
   "source": [
    "from ipyleaflet import Map, GeoJSON, WMSLayer, Marker, Polyline, basemaps, Polygon\n",
    "import json\n",
    "import requests"
   ]
  },
  {
   "cell_type": "code",
   "execution_count": 14,
   "metadata": {},
   "outputs": [],
   "source": [
    "# Load a local file\n",
    "with open('ucerf2dm6.json') as f:\n",
    "    data = json.load(f)\n",
    "# Load from geoserver directly\n",
    "faultjson = requests.get(\"http://gf2.ucs.indiana.edu:8080/geoserver/EDECIDER/ows?service=WFS&version=1.0.0&request=GetFeature&typeName=EDECIDER:faulttable&maxFeatures=500&outputFormat=json\")\n",
    "data=json.loads(faultjson.text)"
   ]
  },
  {
   "cell_type": "code",
   "execution_count": 15,
   "metadata": {},
   "outputs": [],
   "source": [
    "m = Map(center=(33, -115), zoom=8,basemap=basemaps.Esri.WorldTopoMap)\n",
    "\n",
    "geo_json = GeoJSON(data=data)\n",
    "m.add_layer(geo_json);\n"
   ]
  },
  {
   "cell_type": "code",
   "execution_count": 16,
   "metadata": {},
   "outputs": [],
   "source": [
    "wms1 = WMSLayer(\n",
    "    url=\"http://149.165.157.180/geoserver/highres/wms?\",\n",
    "    layers=\"highres:uid10_unw\",\n",
    "    transparent=True,\n",
    "    format=\"image/png\"\n",
    ")\n",
    "m.add_layer(wms1)"
   ]
  },
  {
   "cell_type": "code",
   "execution_count": 17,
   "metadata": {},
   "outputs": [],
   "source": [
    "wms2 = WMSLayer(\n",
    "    url=\"http://149.165.157.180/geoserver/highres/wms?\",\n",
    "    layers=\"highres:uid337_unw\",\n",
    "    transparent=True,\n",
    "    format=\"image/png\"\n",
    ")\n",
    "m.add_layer(wms2)"
   ]
  },
  {
   "cell_type": "code",
   "execution_count": 18,
   "metadata": {},
   "outputs": [],
   "source": [
    "pnt1 = Marker(location=(32.69652, -115.99283),draggable=False)\n",
    "pnt2 = Marker(location=(32.69652, -115.89283),draggable=False)\n",
    "m.add_layer(pnt1)\n",
    "m.add_layer(pnt2)\n",
    "pl = Polyline(location=[(32.69652, -115.99283),(32.69652, -115.89283)],fill_color='black',color=\"black\")\n",
    "m.add_layer(pl)"
   ]
  },
  {
   "cell_type": "code",
   "execution_count": 19,
   "metadata": {},
   "outputs": [
    {
     "data": {
      "application/vnd.jupyter.widget-view+json": {
       "model_id": "f626cd004bcb49cab04b5020db125984",
       "version_major": 2,
       "version_minor": 0
      },
      "text/plain": [
       "Map(basemap={'url': 'http://server.arcgisonline.com/ArcGIS/rest/services/World_Topo_Map/MapServer/tile/{z}/{y}…"
      ]
     },
     "metadata": {},
     "output_type": "display_data"
    }
   ],
   "source": [
    "m"
   ]
  },
  {
   "cell_type": "code",
   "execution_count": 13,
   "metadata": {},
   "outputs": [],
   "source": [
    "wms3 = WMSLayer(\n",
    "    url=\"http://gf8.ucs.indiana.edu/geoserver/SimCCS/wms?\",\n",
    "    layers=\"SimCCS:NATCARB_Coal\",\n",
    "    transparent=True,\n",
    "    format=\"image/png\"\n",
    ")\n",
    "m.add_layer(wms3)"
   ]
  },
  {
   "cell_type": "code",
   "execution_count": 12,
   "metadata": {},
   "outputs": [
    {
     "data": {
      "application/vnd.jupyter.widget-view+json": {
       "model_id": "9cc9ce8169d44757a49680656a6087ba",
       "version_major": 2,
       "version_minor": 0
      },
      "text/plain": [
       "Map(basemap={'url': 'http://server.arcgisonline.com/ArcGIS/rest/services/World_Topo_Map/MapServer/tile/{z}/{y}…"
      ]
     },
     "metadata": {},
     "output_type": "display_data"
    }
   ],
   "source": [
    "m"
   ]
  }
 ],
 "metadata": {
  "kernelspec": {
   "display_name": "Python 3",
   "language": "python",
   "name": "python3"
  },
  "language_info": {
   "codemirror_mode": {
    "name": "ipython",
    "version": 3
   },
   "file_extension": ".py",
   "mimetype": "text/x-python",
   "name": "python",
   "nbconvert_exporter": "python",
   "pygments_lexer": "ipython3",
   "version": "3.6.5"
  }
 },
 "nbformat": 4,
 "nbformat_minor": 2
}
