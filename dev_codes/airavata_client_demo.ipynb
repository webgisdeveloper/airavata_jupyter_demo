{
 "cells": [
  {
   "cell_type": "code",
   "execution_count": 1,
   "metadata": {
    "collapsed": true
   },
   "outputs": [],
   "source": [
    "from airavata_client import AiravataClient"
   ]
  },
  {
   "cell_type": "code",
   "execution_count": 2,
   "metadata": {},
   "outputs": [
    {
     "name": "stderr",
     "output_type": "stream",
     "text": [
      "/Users/JunWang/Projects/py3airavata/lib/python3.6/site-packages/requests/packages/urllib3/connectionpool.py:852: InsecureRequestWarning: Unverified HTTPS request is being made. Adding certificate verification is strongly advised. See: https://urllib3.readthedocs.io/en/latest/advanced-usage.html#ssl-warnings\n",
      "  InsecureRequestWarning)\n"
     ]
    },
    {
     "name": "stdout",
     "output_type": "stream",
     "text": [
      "junwang has been authorized to access seagrid\n"
     ]
    },
    {
     "name": "stderr",
     "output_type": "stream",
     "text": [
      "/Users/JunWang/Projects/py3airavata/lib/python3.6/site-packages/requests/packages/urllib3/connectionpool.py:852: InsecureRequestWarning: Unverified HTTPS request is being made. Adding certificate verification is strongly advised. See: https://urllib3.readthedocs.io/en/latest/advanced-usage.html#ssl-warnings\n",
      "  InsecureRequestWarning)\n"
     ]
    }
   ],
   "source": [
    "ac = AiravataClient(configfile = '~/Projects/airavata-client.ini')"
   ]
  },
  {
   "cell_type": "code",
   "execution_count": 3,
   "metadata": {},
   "outputs": [
    {
     "data": {
      "text/plain": [
       "[Project(projectID='Test01_5aec503c-aec7-4c01-8e53-10fd8d60db74', owner='junwang', gatewayId='seagrid', name='Test01', description='Testing project for Gaussian application', creationTime=1499280057000, sharedUsers=['junwang'], sharedGroups=None),\n",
       " Project(projectID='Test01_f266ce3e-3c7c-4b80-91ae-72e5d870c92d', owner='junwang', gatewayId='seagrid', name='Test01', description='Testing project for Gaussian application', creationTime=1499279336000, sharedUsers=['junwang'], sharedGroups=None),\n",
       " Project(projectID='DefaultProject_01720113-3d7c-4020-ba83-2c977ae5c3ba', owner='junwang', gatewayId='seagrid', name='Default Project', description='This is the default project for user junwang', creationTime=1496947847000, sharedUsers=['junwang'], sharedGroups=None)]"
      ]
     },
     "execution_count": 3,
     "metadata": {},
     "output_type": "execute_result"
    }
   ],
   "source": [
    "ac.getprojects()"
   ]
  },
  {
   "cell_type": "code",
   "execution_count": 4,
   "metadata": {},
   "outputs": [],
   "source": [
    "#ac.createproject(\"Test01\",\"Testing project for Gaussian application\")"
   ]
  },
  {
   "cell_type": "code",
   "execution_count": 5,
   "metadata": {},
   "outputs": [
    {
     "data": {
      "text/plain": [
       "[Project(projectID='Test01_5aec503c-aec7-4c01-8e53-10fd8d60db74', owner='junwang', gatewayId='seagrid', name='Test01', description='Testing project for Gaussian application', creationTime=1499280057000, sharedUsers=['junwang'], sharedGroups=None),\n",
       " Project(projectID='Test01_f266ce3e-3c7c-4b80-91ae-72e5d870c92d', owner='junwang', gatewayId='seagrid', name='Test01', description='Testing project for Gaussian application', creationTime=1499279336000, sharedUsers=['junwang'], sharedGroups=None),\n",
       " Project(projectID='DefaultProject_01720113-3d7c-4020-ba83-2c977ae5c3ba', owner='junwang', gatewayId='seagrid', name='Default Project', description='This is the default project for user junwang', creationTime=1496947847000, sharedUsers=['junwang'], sharedGroups=None)]"
      ]
     },
     "execution_count": 5,
     "metadata": {},
     "output_type": "execute_result"
    }
   ],
   "source": [
    "#ac.getprojects()"
   ]
  },
  {
   "cell_type": "code",
   "execution_count": 6,
   "metadata": {},
   "outputs": [],
   "source": [
    "#ac.deleteproject('Test01_aacf1199-5861-461d-ae6f-56e6e7a5b4cb')"
   ]
  },
  {
   "cell_type": "code",
   "execution_count": 7,
   "metadata": {},
   "outputs": [],
   "source": [
    "#ac.isnotebook()"
   ]
  },
  {
   "cell_type": "code",
   "execution_count": 8,
   "metadata": {},
   "outputs": [
    {
     "data": {
      "text/plain": [
       "['comet.sdsc.edu_91b900df-0ee0-4909-89b3-98e8f64e1969',\n",
       " 'gordon.sdsc.edu_bb11b481-fe7e-44d4-95ba-d3ffcd08bf08',\n",
       " 'bigred2.uits.iu.edu_ac140dca-3c88-46d8-b9ed-875d96ea6908',\n",
       " 'bridges.psc.edu_8bfb9e14-e0ad-44b6-a4d0-5c2b28fdffa0',\n",
       " 'karst.uits.iu.edu_a9a65e7d-d104-4c11-829b-412168bed7a8',\n",
       " 'bridges.psc.edu_8bfb9e14-e0ad-44b6-a4d0-5c2b28fdffa0']"
      ]
     },
     "execution_count": 8,
     "metadata": {},
     "output_type": "execute_result"
    }
   ],
   "source": [
    "ac.getapplications(module=\"Gaussian\")"
   ]
  }
 ],
 "metadata": {
  "kernelspec": {
   "display_name": "Python 3",
   "language": "python",
   "name": "python3"
  },
  "language_info": {
   "codemirror_mode": {
    "name": "ipython",
    "version": 3
   },
   "file_extension": ".py",
   "mimetype": "text/x-python",
   "name": "python",
   "nbconvert_exporter": "python",
   "pygments_lexer": "ipython3",
   "version": "3.6.1"
  }
 },
 "nbformat": 4,
 "nbformat_minor": 2
}
