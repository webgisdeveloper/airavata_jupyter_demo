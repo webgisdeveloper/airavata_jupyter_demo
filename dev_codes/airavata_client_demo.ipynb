{
 "cells": [
  {
   "cell_type": "code",
   "execution_count": 1,
   "metadata": {
    "collapsed": true
   },
   "outputs": [],
   "source": [
    "from airavata_client import AiravataClient"
   ]
  },
  {
   "cell_type": "code",
   "execution_count": 2,
   "metadata": {},
   "outputs": [
    {
     "name": "stderr",
     "output_type": "stream",
     "text": [
      "/Users/JunWang/Projects/py3airavata/lib/python3.6/site-packages/requests/packages/urllib3/connectionpool.py:852: InsecureRequestWarning: Unverified HTTPS request is being made. Adding certificate verification is strongly advised. See: https://urllib3.readthedocs.io/en/latest/advanced-usage.html#ssl-warnings\n",
      "  InsecureRequestWarning)\n"
     ]
    },
    {
     "name": "stdout",
     "output_type": "stream",
     "text": [
      "junwang has been authorized to access seagrid\n"
     ]
    },
    {
     "name": "stderr",
     "output_type": "stream",
     "text": [
      "/Users/JunWang/Projects/py3airavata/lib/python3.6/site-packages/requests/packages/urllib3/connectionpool.py:852: InsecureRequestWarning: Unverified HTTPS request is being made. Adding certificate verification is strongly advised. See: https://urllib3.readthedocs.io/en/latest/advanced-usage.html#ssl-warnings\n",
      "  InsecureRequestWarning)\n"
     ]
    }
   ],
   "source": [
    "# get authroized with the configuration file\n",
    "# TODO: validate server certificate\n",
    "ac = AiravataClient(configfile = '~/Projects/airavata-client.ini')"
   ]
  },
  {
   "cell_type": "code",
   "execution_count": 3,
   "metadata": {},
   "outputs": [
    {
     "data": {
      "text/plain": [
       "[Project(projectID='Test02_d0dea0cd-7c75-4179-bee2-154a3a3fcad9', owner='junwang', gatewayId='seagrid', name='Test02', description='Testing project for Gaussian application', creationTime=1499450068000, sharedUsers=['junwang'], sharedGroups=None),\n",
       " Project(projectID='Test01_6ce332b6-6a8b-4455-94f8-433b666cdeee', owner='junwang', gatewayId='seagrid', name='Test01', description='Testing project for Gaussian application', creationTime=1499449972000, sharedUsers=['junwang'], sharedGroups=None),\n",
       " Project(projectID='DemoProject_565ed297-00d9-46fc-92ea-f3ea125a91cd', owner='junwang', gatewayId='seagrid', name='DemoProject', description='', creationTime=1499446159000, sharedUsers=['junwang'], sharedGroups=None),\n",
       " Project(projectID='DefaultProject_01720113-3d7c-4020-ba83-2c977ae5c3ba', owner='junwang', gatewayId='seagrid', name='Default Project', description='This is the default project for user junwang', creationTime=1496947847000, sharedUsers=['junwang'], sharedGroups=None)]"
      ]
     },
     "execution_count": 3,
     "metadata": {},
     "output_type": "execute_result"
    }
   ],
   "source": [
    "ac.getprojects()"
   ]
  },
  {
   "cell_type": "code",
   "execution_count": 4,
   "metadata": {
    "collapsed": true
   },
   "outputs": [],
   "source": [
    "ac.createproject(\"Test01\",\"Testing project for Gaussian application\")"
   ]
  },
  {
   "cell_type": "code",
   "execution_count": 5,
   "metadata": {},
   "outputs": [
    {
     "data": {
      "text/plain": [
       "[Project(projectID='Test01_5aec503c-aec7-4c01-8e53-10fd8d60db74', owner='junwang', gatewayId='seagrid', name='Test01', description='Testing project for Gaussian application', creationTime=1499280057000, sharedUsers=['junwang'], sharedGroups=None),\n",
       " Project(projectID='Test01_f266ce3e-3c7c-4b80-91ae-72e5d870c92d', owner='junwang', gatewayId='seagrid', name='Test01', description='Testing project for Gaussian application', creationTime=1499279336000, sharedUsers=['junwang'], sharedGroups=None),\n",
       " Project(projectID='DefaultProject_01720113-3d7c-4020-ba83-2c977ae5c3ba', owner='junwang', gatewayId='seagrid', name='Default Project', description='This is the default project for user junwang', creationTime=1496947847000, sharedUsers=['junwang'], sharedGroups=None)]"
      ]
     },
     "execution_count": 5,
     "metadata": {},
     "output_type": "execute_result"
    }
   ],
   "source": [
    "ac.getprojects()"
   ]
  },
  {
   "cell_type": "code",
   "execution_count": 3,
   "metadata": {},
   "outputs": [
    {
     "name": "stdout",
     "output_type": "stream",
     "text": [
      "generating a sample experiment:  GaussianTestJob56\n"
     ]
    }
   ],
   "source": [
    "ex = ac.sampleexperiment()"
   ]
  },
  {
   "cell_type": "code",
   "execution_count": 4,
   "metadata": {},
   "outputs": [
    {
     "name": "stdout",
     "output_type": "stream",
     "text": [
      "ExperimentModel(experimentId='DO_NOT_SET_AT_CLIENTS', projectId='DemoProject_565ed297-00d9-46fc-92ea-f3ea125a91cd', gatewayId='seagrid', experimentType=0, userName='junwang', experimentName='GaussianTestJob56', creationTime=None, description='Gaussian Experiment Sample', executionId='Gaussian_bd41aa7e-5ec0-4a11-a321-f35ba8bfce91', gatewayExecutionId=None, gatewayInstanceId=None, enableEmailNotification=None, emailAddresses=None, userConfigurationData=UserConfigurationDataModel(airavataAutoSchedule=False, overrideManualScheduledParams=False, shareExperimentPublicly=False, computationalResourceScheduling=ComputationalResourceSchedulingModel(resourceHostId='comet.sdsc.edu_91b900df-0ee0-4909-89b3-98e8f64e1969', totalCPUCount=4, nodeCount=1, numberOfThreads=0, queueName='shared', wallTimeLimit=30, totalPhysicalMemory=0, chessisNumber=None, staticWorkingDir=None, overrideLoginUserName=None, overrideScratchLocation=None, overrideAllocationProjectNumber=None), throttleResources=False, userDN=None, generateCert=False, storageId='156.56.177.220_aac7149e-d642-4849-9c2a-020c8af8419e', experimentDataDir='/home/wang208/airavata-data-dir/junwang/DemoProject/GaussianTestJob56/', useUserCRPref=None), experimentInputs=[InputDataObjectType(name='Gaussian.com', value='airavata-dp://aca9c3dd-30d1-4ed9-9dd1-0ea1657efe40', type=3, applicationArgument=None, standardInput=None, userFriendlyDescription=None, metaData=None, inputOrder=1, isRequired=True, requiredToAddedToCommandLine=True, dataStaged=None, storageResourceId='156.56.177.220_aac7149e-d642-4849-9c2a-020c8af8419e', isReadOnly=None)], experimentOutputs=None, experimentStatus=None, errors=None, processes=None)\n"
     ]
    }
   ],
   "source": [
    "print(ex)"
   ]
  },
  {
   "cell_type": "code",
   "execution_count": 5,
   "metadata": {
    "collapsed": true
   },
   "outputs": [],
   "source": [
    "# create an experiment, and return unique experimentId\n",
    "exid = ac.createexperiment(ex)"
   ]
  },
  {
   "cell_type": "code",
   "execution_count": 6,
   "metadata": {},
   "outputs": [
    {
     "name": "stdout",
     "output_type": "stream",
     "text": [
      "GaussianTestJob56_3a346eb0-475c-4991-b586-9e7dfc0c1310\n"
     ]
    }
   ],
   "source": [
    "# check the id\n",
    "print(exid)"
   ]
  },
  {
   "cell_type": "code",
   "execution_count": 7,
   "metadata": {},
   "outputs": [
    {
     "data": {
      "text/plain": [
       "ExperimentModel(experimentId='GaussianTestJob56_3a346eb0-475c-4991-b586-9e7dfc0c1310', projectId='DemoProject_565ed297-00d9-46fc-92ea-f3ea125a91cd', gatewayId='seagrid', experimentType=0, userName='junwang', experimentName='GaussianTestJob56', creationTime=1499450349000, description='Gaussian Experiment Sample', executionId='Gaussian_bd41aa7e-5ec0-4a11-a321-f35ba8bfce91', gatewayExecutionId=None, gatewayInstanceId=None, enableEmailNotification=False, emailAddresses=None, userConfigurationData=UserConfigurationDataModel(airavataAutoSchedule=False, overrideManualScheduledParams=False, shareExperimentPublicly=False, computationalResourceScheduling=ComputationalResourceSchedulingModel(resourceHostId='comet.sdsc.edu_91b900df-0ee0-4909-89b3-98e8f64e1969', totalCPUCount=4, nodeCount=1, numberOfThreads=0, queueName='shared', wallTimeLimit=30, totalPhysicalMemory=0, chessisNumber=None, staticWorkingDir=None, overrideLoginUserName=None, overrideScratchLocation=None, overrideAllocationProjectNumber=None), throttleResources=False, userDN=None, generateCert=False, storageId='156.56.177.220_aac7149e-d642-4849-9c2a-020c8af8419e', experimentDataDir='/home/wang208/airavata-data-dir/junwang/DemoProject/GaussianTestJob56/', useUserCRPref=False), experimentInputs=[InputDataObjectType(name='Gaussian.com', value='airavata-dp://aca9c3dd-30d1-4ed9-9dd1-0ea1657efe40', type=3, applicationArgument=None, standardInput=False, userFriendlyDescription=None, metaData=None, inputOrder=1, isRequired=True, requiredToAddedToCommandLine=True, dataStaged=False, storageResourceId=None, isReadOnly=False)], experimentOutputs=[], experimentStatus=[ExperimentStatus(state=0, timeOfStateChange=1499450349315, reason=None)], errors=None, processes=None)"
      ]
     },
     "execution_count": 7,
     "metadata": {},
     "output_type": "execute_result"
    }
   ],
   "source": [
    "# check the created experiment\n",
    "ac.getexperimentbyid(exid)"
   ]
  },
  {
   "cell_type": "code",
   "execution_count": 8,
   "metadata": {},
   "outputs": [
    {
     "name": "stdout",
     "output_type": "stream",
     "text": [
      "launch:  GaussianTestJob56_3a346eb0-475c-4991-b586-9e7dfc0c1310\n"
     ]
    }
   ],
   "source": [
    "# launch the experiment\n",
    "ac.launchexperiment(exid)"
   ]
  },
  {
   "cell_type": "code",
   "execution_count": 9,
   "metadata": {},
   "outputs": [
    {
     "data": {
      "text/plain": [
       "ExperimentStatus(state=4, timeOfStateChange=1499450495255, reason='process  started')"
      ]
     },
     "execution_count": 9,
     "metadata": {},
     "output_type": "execute_result"
    }
   ],
   "source": [
    "ac.getexperimentstatus(exid)"
   ]
  },
  {
   "cell_type": "code",
   "execution_count": null,
   "metadata": {
    "collapsed": true
   },
   "outputs": [],
   "source": []
  }
 ],
 "metadata": {
  "kernelspec": {
   "display_name": "Python 3",
   "language": "python",
   "name": "python3"
  },
  "language_info": {
   "codemirror_mode": {
    "name": "ipython",
    "version": 3
   },
   "file_extension": ".py",
   "mimetype": "text/x-python",
   "name": "python",
   "nbconvert_exporter": "python",
   "pygments_lexer": "ipython3",
   "version": "3.6.1"
  }
 },
 "nbformat": 4,
 "nbformat_minor": 2
}
